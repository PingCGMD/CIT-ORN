{
 "cells": [
  {
   "cell_type": "code",
   "execution_count": 1,
   "id": "8a00ba0e",
   "metadata": {},
   "outputs": [],
   "source": [
    "import numpy as np\n",
    "from scipy import optimize\n",
    "import matplotlib.pyplot as plt"
   ]
  },
  {
   "cell_type": "code",
   "execution_count": 2,
   "id": "4452b4a3",
   "metadata": {},
   "outputs": [],
   "source": [
    "def f( x, p0, p1, p2):\n",
    "    return p0/(1+np.exp(-p1*(x-p2)))\n",
    "\n",
    "def ff(x, p):\n",
    "    return f(x, *p)"
   ]
  },
  {
   "cell_type": "code",
   "execution_count": 3,
   "id": "76623e70",
   "metadata": {},
   "outputs": [],
   "source": [
    "def fit_curvefit(p0, datax, datay, function, err_y, **kwargs):\n",
    "    pfit, pcov = optimize.curve_fit(f, datax, datay, p0=p0, sigma=err_y, epsfcn=0.0001, **kwargs)\n",
    "    error = [] \n",
    "    for i in range(len(pfit)):\n",
    "        try:\n",
    "          error.append(np.absolute(pcov[i][i])**0.5)\n",
    "        except:\n",
    "          error.append( 0.00 )\n",
    "    pfit_curvefit = pfit\n",
    "    perr_curvefit = np.array(error)\n",
    "    return pfit_curvefit, perr_curvefit "
   ]
  },
  {
   "cell_type": "code",
   "execution_count": 4,
   "id": "077955ca",
   "metadata": {},
   "outputs": [],
   "source": [
    "xdata = [ 280, 300, 310, 340, 370]\n",
    "ydata = [ 20.74, 25.73, 30.44, 36.80, 41.52]\n",
    "y_err = [ 5.66, 8.26, 7.96, 8.91, 9.32]"
   ]
  },
  {
   "cell_type": "code",
   "execution_count": 5,
   "id": "c124ed9a",
   "metadata": {},
   "outputs": [],
   "source": [
    "p0 = 50.0\n",
    "p1 = 0.02\n",
    "p2 = 300"
   ]
  },
  {
   "cell_type": "code",
   "execution_count": 6,
   "id": "2f825884",
   "metadata": {},
   "outputs": [
    {
     "name": "stdout",
     "output_type": "stream",
     "text": [
      "\n",
      "# Fit parameters and parameter errors from curvefit method :\n",
      "pfit =  [4.62421601e+01 2.65734058e-02 2.88173268e+02]\n",
      "perr =  [3.06759550e+00 4.40409633e-03 5.24442127e+00]\n"
     ]
    }
   ],
   "source": [
    "pstart = [ p0, p1, p2]\n",
    "\n",
    "pfit, perr = fit_curvefit(pstart, xdata, ydata, ff, y_err)\n",
    "\n",
    "print(\"\\n# Fit parameters and parameter errors from curvefit method :\")\n",
    "print(\"pfit = \", pfit)\n",
    "print(\"perr = \", perr)"
   ]
  },
  {
   "cell_type": "code",
   "execution_count": 7,
   "id": "4fe41f20",
   "metadata": {},
   "outputs": [
    {
     "data": {
      "text/plain": [
       "[<matplotlib.lines.Line2D at 0x7f6116882a30>]"
      ]
     },
     "execution_count": 7,
     "metadata": {},
     "output_type": "execute_result"
    },
    {
     "data": {
      "image/png": "[encoded data removed]",
      "text/plain": [
       "<Figure size 432x288 with 1 Axes>"
      ]
     },
     "metadata": {
      "needs_background": "light"
     },
     "output_type": "display_data"
    }
   ],
   "source": [
    "p3 = 46.2\n",
    "p4 = 0.0266\n",
    "p5 = 288.2\n",
    "\n",
    "xvals = np.linspace(200.0, 450.0, 100)\n",
    "yvals = f(xvals, p3, p4, p5)\n",
    "\n",
    "plt.plot(xdata, ydata, 'o', mfc='None')\n",
    "plt.plot(xvals, yvals)"
   ]
  },
  {
   "cell_type": "code",
   "execution_count": 8,
   "id": "97ab4c65",
   "metadata": {},
   "outputs": [],
   "source": [
    "xdata = [ 280, 300, 310, 340, 370]\n",
    "ydata = [ 29.46, 41.04, 49.34, 61.27, 66.23]\n",
    "y_err = [ 10.31, 17.91, 16.63, 14.40, 13.57]"
   ]
  },
  {
   "cell_type": "code",
   "execution_count": 9,
   "id": "2747625c",
   "metadata": {},
   "outputs": [],
   "source": [
    "p0 = 50.0\n",
    "p1 = 0.02\n",
    "p2 = 300"
   ]
  },
  {
   "cell_type": "code",
   "execution_count": 10,
   "id": "e242f80c",
   "metadata": {},
   "outputs": [
    {
     "name": "stdout",
     "output_type": "stream",
     "text": [
      "\n",
      "# Fit parameters and parameter errors from curvefit method :\n",
      "pfit =  [6.91375452e+01 3.88273695e-02 2.87937567e+02]\n",
      "perr =  [1.53774411 0.00317731 1.52180128]\n"
     ]
    }
   ],
   "source": [
    "pstart = [ p0, p1, p2]\n",
    "\n",
    "pfit, perr = fit_curvefit(pstart, xdata, ydata, ff, y_err)\n",
    "\n",
    "print(\"\\n# Fit parameters and parameter errors from curvefit method :\")\n",
    "print(\"pfit = \", pfit)\n",
    "print(\"perr = \", perr)"
   ]
  },
  {
   "cell_type": "code",
   "execution_count": 11,
   "id": "98f9ffc0",
   "metadata": {},
   "outputs": [
    {
     "data": {
      "text/plain": [
       "[<matplotlib.lines.Line2D at 0x7f6116786850>]"
      ]
     },
     "execution_count": 11,
     "metadata": {},
     "output_type": "execute_result"
    },
    {
     "data": {
      "image/png": "[encoded data removed]",
      "text/plain": [
       "<Figure size 432x288 with 1 Axes>"
      ]
     },
     "metadata": {
      "needs_background": "light"
     },
     "output_type": "display_data"
    }
   ],
   "source": [
    "p6 = 69.1\n",
    "p7 = 0.0388\n",
    "p8 = 287.9\n",
    "\n",
    "xvals = np.linspace(200.0, 450.0, 100)\n",
    "yval2 = f(xvals, p6, p7, p8)\n",
    "\n",
    "plt.plot(xdata, ydata, 'o', mfc='None')\n",
    "plt.plot(xvals, yval2)"
   ]
  },
  {
   "cell_type": "code",
   "execution_count": 2,
   "id": "c69028fe",
   "metadata": {},
   "outputs": [],
   "source": [
    "xdata = [ 270, 280, 300, 310, 340, 370]\n",
    "ydata = [ 7.6867917, 6.0412917, 17.697292, 28.392667, 52.572917, 61.664167]\n",
    "y_err = [ 4.0916542, 2.7371542, 4.6184167, 12.1035, 11.5805, 10.121458]"
   ]
  },
  {
   "cell_type": "code",
   "execution_count": 3,
   "id": "f8394f7d",
   "metadata": {},
   "outputs": [],
   "source": [
    "p0 = 64\n",
    "p1 = 0.07\n",
    "p2 = 314"
   ]
  },
  {
   "cell_type": "code",
   "execution_count": 5,
   "id": "136ea095",
   "metadata": {},
   "outputs": [],
   "source": [
    "def f( x, p0, p1, p2):\n",
    "    return p0/(1+np.exp(-p1*(x-p2)))\n",
    "\n",
    "def ff(x, p):\n",
    "    return f(x, *p)"
   ]
  },
  {
   "cell_type": "code",
   "execution_count": 7,
   "id": "f98244fb",
   "metadata": {},
   "outputs": [],
   "source": [
    "def fit_curvefit(p0, datax, datay, function, err_y, **kwargs):\n",
    "    pfit, pcov = optimize.curve_fit(f, datax, datay, p0=p0, sigma=err_y, epsfcn=0.0001, **kwargs)\n",
    "    error = [] \n",
    "    for i in range(len(pfit)):\n",
    "        try:\n",
    "          error.append(np.absolute(pcov[i][i])**0.5)\n",
    "        except:\n",
    "          error.append( 0.00 )\n",
    "    pfit_curvefit = pfit\n",
    "    perr_curvefit = np.array(error)\n",
    "    return pfit_curvefit, perr_curvefit "
   ]
  },
  {
   "cell_type": "code",
   "execution_count": 9,
   "id": "d3d95467",
   "metadata": {},
   "outputs": [],
   "source": [
    "import numpy as np\n",
    "from scipy import optimize\n",
    "import matplotlib.pyplot as plt"
   ]
  },
  {
   "cell_type": "code",
   "execution_count": 11,
   "id": "23c5eb52",
   "metadata": {},
   "outputs": [
    {
     "name": "stdout",
     "output_type": "stream",
     "text": [
      "\n",
      "# Fit parameters and parameter errors from curvefit method :\n",
      "pfit =  [6.54951896e+01 5.64264246e-02 3.17179985e+02]\n",
      "perr =  [7.41878478 0.01020058 7.1369131 ]\n"
     ]
    }
   ],
   "source": [
    "pstart = [ p0, p1, p2]\n",
    "\n",
    "pfit, perr = fit_curvefit(pstart, xdata, ydata, ff, y_err)\n",
    "\n",
    "print(\"\\n# Fit parameters and parameter errors from curvefit method :\")\n",
    "print(\"pfit = \", pfit)\n",
    "print(\"perr = \", perr)"
   ]
  },
  {
   "cell_type": "code",
   "execution_count": 12,
   "id": "18cf236c",
   "metadata": {},
   "outputs": [
    {
     "data": {
      "text/plain": [
       "[<matplotlib.lines.Line2D at 0x7fb61206c470>]"
      ]
     },
     "execution_count": 12,
     "metadata": {},
     "output_type": "execute_result"
    },
    {
     "data": {
      "image/png": "[encoded data removed]",
      "text/plain": [
       "<Figure size 432x288 with 1 Axes>"
      ]
     },
     "metadata": {
      "needs_background": "light"
     },
     "output_type": "display_data"
    }
   ],
   "source": [
    "p6 = 65.5\n",
    "p7 = 0.0564\n",
    "p8 = 317.18\n",
    "\n",
    "xvals = np.linspace(200.0, 450.0, 100)\n",
    "yval2 = f(xvals, p6, p7, p8)\n",
    "\n",
    "plt.plot(xdata, ydata, 'o', mfc='None')\n",
    "plt.plot(xvals, yval2)"
   ]
  },
  {
   "cell_type": "code",
   "execution_count": 13,
   "id": "9fa5ba3a",
   "metadata": {},
   "outputs": [],
   "source": [
    "xdata = [ 270, 280, 300, 310, 340, 370]\n",
    "ydata = [ 4.2608333, 1.8745833, 16.283333, 35.297917, 71.619833, 78.077708]\n",
    "y_err = [ 4.8032083, 2.7371542, 7.1282083, 22.217708, 12.79375, 8.8544167]"
   ]
  },
  {
   "cell_type": "code",
   "execution_count": 14,
   "id": "0719daeb",
   "metadata": {},
   "outputs": [],
   "source": [
    "p0 = 77\n",
    "p1 = 0.099\n",
    "p2 = 313"
   ]
  },
  {
   "cell_type": "code",
   "execution_count": 15,
   "id": "dc053b63",
   "metadata": {},
   "outputs": [
    {
     "name": "stdout",
     "output_type": "stream",
     "text": [
      "\n",
      "# Fit parameters and parameter errors from curvefit method :\n",
      "pfit =  [7.77601218e+01 1.02183911e-01 3.13097407e+02]\n",
      "perr =  [3.64654026 0.01819439 3.73945239]\n"
     ]
    }
   ],
   "source": [
    "pstart = [ p0, p1, p2]\n",
    "\n",
    "pfit, perr = fit_curvefit(pstart, xdata, ydata, ff, y_err)\n",
    "\n",
    "print(\"\\n# Fit parameters and parameter errors from curvefit method :\")\n",
    "print(\"pfit = \", pfit)\n",
    "print(\"perr = \", perr)"
   ]
  },
  {
   "cell_type": "code",
   "execution_count": 16,
   "id": "d500f10a",
   "metadata": {},
   "outputs": [
    {
     "data": {
      "text/plain": [
       "[<matplotlib.lines.Line2D at 0x7fb607c7db00>]"
      ]
     },
     "execution_count": 16,
     "metadata": {},
     "output_type": "execute_result"
    },
    {
     "data": {
      "image/png": "[encoded data removed]",
      "text/plain": [
       "<Figure size 432x288 with 1 Axes>"
      ]
     },
     "metadata": {
      "needs_background": "light"
     },
     "output_type": "display_data"
    }
   ],
   "source": [
    "p6 = 77.76\n",
    "p7 = 0.1022\n",
    "p8 = 313.1\n",
    "\n",
    "xvals = np.linspace(200.0, 450.0, 100)\n",
    "yval2 = f(xvals, p6, p7, p8)\n",
    "\n",
    "plt.plot(xdata, ydata, 'o', mfc='None')\n",
    "plt.plot(xvals, yval2)"
   ]
  },
  {
   "cell_type": "code",
   "execution_count": 7,
   "id": "db30e7e8",
   "metadata": {},
   "outputs": [],
   "source": [
    "import numpy as np\n",
    "from scipy import optimize\n",
    "import matplotlib.pyplot as plt"
   ]
  },
  {
   "cell_type": "code",
   "execution_count": 8,
   "id": "56fe1845",
   "metadata": {},
   "outputs": [],
   "source": [
    "def f( x, p0, p1, p2):\n",
    "    return p0/(1+np.exp(-p1*(x-p2)))\n",
    "\n",
    "def ff(x, p):\n",
    "    return f(x, *p)"
   ]
  },
  {
   "cell_type": "code",
   "execution_count": 9,
   "id": "134b01a8",
   "metadata": {},
   "outputs": [],
   "source": [
    "def fit_curvefit(p0, datax, datay, function, err_y, **kwargs):\n",
    "    pfit, pcov = optimize.curve_fit(f, datax, datay, p0=p0, sigma=err_y, epsfcn=0.0001, **kwargs)\n",
    "    error = [] \n",
    "    for i in range(len(pfit)):\n",
    "        try:\n",
    "          error.append(np.absolute(pcov[i][i])**0.5)\n",
    "        except:\n",
    "          error.append( 0.00 )\n",
    "    pfit_curvefit = pfit\n",
    "    perr_curvefit = np.array(error)\n",
    "    return pfit_curvefit, perr_curvefit "
   ]
  },
  {
   "cell_type": "code",
   "execution_count": 17,
   "id": "e0d10b1e",
   "metadata": {},
   "outputs": [],
   "source": [
    "xdata = [ 270, 280, 300, 310, 340, 370]\n",
    "ydata = [ 20.096, 21.092, 25.431, 31.757, 34.954, 36.732]\n",
    "y_err = [ 1.691, 1.718, 2.382, 2.359, 2.557, 2.638]"
   ]
  },
  {
   "cell_type": "code",
   "execution_count": 18,
   "id": "06818838",
   "metadata": {},
   "outputs": [],
   "source": [
    "p0 = 39\n",
    "p1 = 0.03\n",
    "p2 = 275"
   ]
  },
  {
   "cell_type": "code",
   "execution_count": null,
   "id": "5caac406",
   "metadata": {},
   "outputs": [],
   "source": []
  },
  {
   "cell_type": "code",
   "execution_count": 19,
   "id": "9516469e",
   "metadata": {},
   "outputs": [
    {
     "name": "stdout",
     "output_type": "stream",
     "text": [
      "\n",
      "# Fit parameters and parameter errors from curvefit method :\n",
      "pfit =  [3.95789878e+01 2.85184468e-02 2.71966188e+02]\n",
      "perr =  [4.20093713 0.00984601 7.33234856]\n"
     ]
    }
   ],
   "source": [
    "pstart = [ p0, p1, p2]\n",
    "\n",
    "pfit, perr = fit_curvefit(pstart, xdata, ydata, ff, y_err)\n",
    "\n",
    "print(\"\\n# Fit parameters and parameter errors from curvefit method :\")\n",
    "print(\"pfit = \", pfit)\n",
    "print(\"perr = \", perr)"
   ]
  },
  {
   "cell_type": "code",
   "execution_count": 20,
   "id": "d72df32b",
   "metadata": {},
   "outputs": [
    {
     "data": {
      "text/plain": [
       "[<matplotlib.lines.Line2D at 0x7f00ee8e5278>]"
      ]
     },
     "execution_count": 20,
     "metadata": {},
     "output_type": "execute_result"
    },
    {
     "data": {
      "image/png": "[encoded data removed]",
      "text/plain": [
       "<Figure size 432x288 with 1 Axes>"
      ]
     },
     "metadata": {
      "needs_background": "light"
     },
     "output_type": "display_data"
    }
   ],
   "source": [
    "p6 = 39.58\n",
    "p7 = 0.0285\n",
    "p8 = 272\n",
    "\n",
    "xvals = np.linspace(200.0, 450.0, 100)\n",
    "yval2 = f(xvals, p6, p7, p8)\n",
    "\n",
    "plt.plot(xdata, ydata, 'o', mfc='None')\n",
    "plt.plot(xvals, yval2)"
   ]
  },
  {
   "cell_type": "code",
   "execution_count": 21,
   "id": "782824f6",
   "metadata": {},
   "outputs": [],
   "source": [
    "xdata = [ 270, 280, 300, 310, 340, 370]\n",
    "ydata = [ 30.063, 26.695, 41.495, 51.553, 54.188, 55.592]\n",
    "y_err = [ 4.015, 3.415, 4.88, 4.304, 4.311, 4.255]"
   ]
  },
  {
   "cell_type": "code",
   "execution_count": 22,
   "id": "a4f3d078",
   "metadata": {},
   "outputs": [],
   "source": [
    "p0 = 39\n",
    "p1 = 0.03\n",
    "p2 = 275"
   ]
  },
  {
   "cell_type": "code",
   "execution_count": 23,
   "id": "8f7ae8da",
   "metadata": {},
   "outputs": [
    {
     "name": "stdout",
     "output_type": "stream",
     "text": [
      "\n",
      "# Fit parameters and parameter errors from curvefit method :\n",
      "pfit =  [5.76575555e+01 4.38295287e-02 2.75928122e+02]\n",
      "perr =  [5.83144039 0.01974047 6.5471349 ]\n"
     ]
    }
   ],
   "source": [
    "pstart = [ p0, p1, p2]\n",
    "\n",
    "pfit, perr = fit_curvefit(pstart, xdata, ydata, ff, y_err)\n",
    "\n",
    "print(\"\\n# Fit parameters and parameter errors from curvefit method :\")\n",
    "print(\"pfit = \", pfit)\n",
    "print(\"perr = \", perr)"
   ]
  },
  {
   "cell_type": "code",
   "execution_count": 24,
   "id": "b4fee009",
   "metadata": {},
   "outputs": [
    {
     "data": {
      "text/plain": [
       "[<matplotlib.lines.Line2D at 0x7f00ee85fa20>]"
      ]
     },
     "execution_count": 24,
     "metadata": {},
     "output_type": "execute_result"
    },
    {
     "data": {
      "image/png": "[encoded data removed]",
      "text/plain": [
       "<Figure size 432x288 with 1 Axes>"
      ]
     },
     "metadata": {
      "needs_background": "light"
     },
     "output_type": "display_data"
    }
   ],
   "source": [
    "p6 = 57.66\n",
    "p7 = 0.0438\n",
    "p8 = 276\n",
    "\n",
    "xvals = np.linspace(200.0, 450.0, 100)\n",
    "yval2 = f(xvals, p6, p7, p8)\n",
    "\n",
    "plt.plot(xdata, ydata, 'o', mfc='None')\n",
    "plt.plot(xvals, yval2)"
   ]
  }
 ],
 "metadata": {
  "kernelspec": {
   "display_name": "Python 3 (ipykernel)",
   "language": "python",
   "name": "python3"
  },
  "language_info": {
   "codemirror_mode": {
    "name": "ipython",
    "version": 3
   },
   "file_extension": ".py",
   "mimetype": "text/x-python",
   "name": "python",
   "nbconvert_exporter": "python",
   "pygments_lexer": "ipython3",
   "version": "3.7.3"
  }
 },
 "nbformat": 4,
 "nbformat_minor": 5
}
